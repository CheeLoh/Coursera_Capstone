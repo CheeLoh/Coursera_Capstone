{
 "cells": [
  {
   "cell_type": "markdown",
   "metadata": {
    "collapsed": true
   },
   "source": [
    "# Final Capstone Project\n",
    "\n",
    "## This notebook will be used for the Data Science Capstone Project"
   ]
  },
  {
   "cell_type": "markdown",
   "metadata": {},
   "source": [
    "## Author: Chee Loh"
   ]
  },
  {
   "cell_type": "markdown",
   "metadata": {},
   "source": [
    "# Introduction and Business Problem"
   ]
  },
  {
   "cell_type": "markdown",
   "metadata": {},
   "source": [
    "    The problem I would like to solve is to minimize traffic congestion due to severe automotive accidents by alerting people of where and when accidents have occurred as well as the severity of those accidents so they can avoid those areas. In order to accomplish this task, I would like to use various features from the sample data set “Data-Collisions.csv” to predict the severity of motor vehicle accidents. Such features include: “SEVERITYDESC”, which could be used to identify if a specific accident involved a personal injury or only property damage. Usually, incidents which involve injury to a person or persons could be classified as a more severe event. We can also use features such as “WEATHER” and “ROADCOND” to identify if there was poor whether or road conditions which could have contributed to a more severe accident.\n",
    "\tThe target audience for this initiative would really be any consumer of this information who is looking to save commute time to their destination. Another target audience could be emergency service people who would like to identify the most severe accidents so they can respond to them with priority. Both parties would care about solving the problem I mention because they both want to find the shortest path to their destinations whether it be work or school are in the case of emergency responders, the accident itself.\n"
   ]
  },
  {
   "cell_type": "markdown",
   "metadata": {},
   "source": [
    "# Data"
   ]
  },
  {
   "cell_type": "markdown",
   "metadata": {},
   "source": [
    "    In order to accomplish my task of predicting accident severity, I would like to use various features from the sample data set “Data-Collisions.csv” to predict the severity of motor vehicle accidents. Such features include “SEVERITYDESC”, which could be used to identify if a specific accident involved a personal injury or only property damage. Usually, incidents which involve injury to a person or persons could be classified as a more severe event. For example, if someone were to get into an accident where spinal injuries occurred(personal injury), this event would be considered greatly more severe than and accident which only cause minor bumper damage(property damage).\n",
    "    We can also use features such as “WEATHER” and “ROADCOND” to identify if there was poor weather or road conditions which could have contributed to a more severe accident. Heavy rain or very foggy weather conditions would contribute to poor visibility during driving and lead to more severe accidents. If road conditions were wet or had snow and ice on it, this would also lead to loss of control of the vehicle and more prone to a more severe car accident. All of the factors described above are significant variables which could help in my task to predict the severity of a car accident that has already happened or that may happen.\n"
   ]
  },
  {
   "cell_type": "code",
   "execution_count": null,
   "metadata": {},
   "outputs": [],
   "source": []
  },
  {
   "cell_type": "code",
   "execution_count": null,
   "metadata": {},
   "outputs": [],
   "source": []
  }
 ],
 "metadata": {
  "kernelspec": {
   "display_name": "Python 3.6",
   "language": "python",
   "name": "python3"
  },
  "language_info": {
   "codemirror_mode": {
    "name": "ipython",
    "version": 3
   },
   "file_extension": ".py",
   "mimetype": "text/x-python",
   "name": "python",
   "nbconvert_exporter": "python",
   "pygments_lexer": "ipython3",
   "version": "3.6.9"
  }
 },
 "nbformat": 4,
 "nbformat_minor": 1
}
