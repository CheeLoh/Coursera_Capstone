{
 "cells": [
  {
   "cell_type": "markdown",
   "metadata": {
    "collapsed": true
   },
   "source": [
    "# Applied Data Science Capstone\n",
    "\n",
    "### Predicting Accident Severity using Seattle Data Set"
   ]
  },
  {
   "cell_type": "markdown",
   "metadata": {},
   "source": [
    "Chee Loh"
   ]
  },
  {
   "cell_type": "markdown",
   "metadata": {},
   "source": [
    "# Introduction\n",
    "\n",
    "## Problem Statement"
   ]
  },
  {
   "cell_type": "markdown",
   "metadata": {},
   "source": [
    "Traffic accidents can cause inconvenience not only for the parties involved, but also surrounding drivers who are stuck in a standstill.\n",
    "Millions of accidents occur in the United States each year leading to increased commute time, property damage, and even personal injury.\n",
    "\n",
    "How can we minimize traffic congestion due to severe automotive accidents? How can we predict accident severity based on outside factors such as weather and road conditions in order to alert drivers of an increased driving risk?  \n",
    "\n",
    "In order to accomplish this task, a prediction model can be used to identify what factors contribute to the severity of a traffic accident. By using a large data set of traffic accidents in Seattle compiled from 2004 to 2020, various environmental as well as personal factors which contribute to the severity of the accident can be highlighted. Furthermore, this data analysis can be used to predict the severity of new accidents which have yet to occur.\n",
    "\n",
    "Daily driver commuters as well as emergency service personnel can benefit from this information by using it to avoid high congestion areas(thus reducing overall congestion) and minimizing their time to destination, whether it is work, school, or the scene of the accident itself."
   ]
  },
  {
   "cell_type": "markdown",
   "metadata": {},
   "source": [
    "## Data"
   ]
  },
  {
   "cell_type": "markdown",
   "metadata": {},
   "source": [
    "In order to accomplish the task of predicting accident severity, there are various features from the sample data set “Data-Collisions.csv” that can be used to predict the severity of motor vehicle accidents. Such features include “WEATHER”, which could be used to highlight if inclement weather would lead to a more severe accident.\n",
    "\n",
    "We could also reveal other interesting conclusions from the dataset such as if severe accidents occur more on specific days of the week or in a particular location in the city.\n",
    "\n",
    "All of these factors are significant variables which could help to predict the severity of a car accident that has already happened or that may happen.\n",
    "\n"
   ]
  },
  {
   "cell_type": "markdown",
   "metadata": {},
   "source": [
    "## Methodology\n"
   ]
  },
  {
   "cell_type": "markdown",
   "metadata": {},
   "source": [
    "For this project, I would like to use a classification model in order to predict accident severity(non-severe vs. severe). Various supervised learning algorithms can be used such as K-Nearest Neighbours(KNN), Decision Trees(DT), Logistic Regression(LR), and Support Vector Machines(SVM). In this report, all four methods of classifications will be analyzed. First, the raw data set will be cleaned and formatted in order to analyze more efficiently. The data set will then be split into a training set and a testing set. The training set of data will be used to fit each classification model. Then, the fitted model will be tested with the test set of data in order to evaluate its accuracy. Various accuracy scores will be reported for each classification model such as Jaccard Score and F1-Score."
   ]
  },
  {
   "cell_type": "code",
   "execution_count": 25,
   "metadata": {},
   "outputs": [
    {
     "name": "stdout",
     "output_type": "stream",
     "text": [
      "--2020-09-12 20:10:43--  https://s3.us.cloud-object-storage.appdomain.cloud/cf-courses-data/CognitiveClass/DP0701EN/version-2/Data-Collisions.csv\n",
      "Resolving s3.us.cloud-object-storage.appdomain.cloud (s3.us.cloud-object-storage.appdomain.cloud)... 67.228.254.196\n",
      "Connecting to s3.us.cloud-object-storage.appdomain.cloud (s3.us.cloud-object-storage.appdomain.cloud)|67.228.254.196|:443... connected.\n",
      "HTTP request sent, awaiting response... 200 OK\n",
      "Length: 73917638 (70M) [text/csv]\n",
      "Saving to: ‘Data-Collisions.csv’\n",
      "\n",
      "100%[======================================>] 73,917,638  46.1MB/s   in 1.5s   \n",
      "\n",
      "2020-09-12 20:10:45 (46.1 MB/s) - ‘Data-Collisions.csv’ saved [73917638/73917638]\n",
      "\n"
     ]
    },
    {
     "name": "stderr",
     "output_type": "stream",
     "text": [
      "/opt/conda/envs/Python36/lib/python3.6/site-packages/IPython/core/interactiveshell.py:3020: DtypeWarning: Columns (33) have mixed types. Specify dtype option on import or set low_memory=False.\n",
      "  interactivity=interactivity, compiler=compiler, result=result)\n"
     ]
    }
   ],
   "source": [
    "# First, import the appropriate modules and tools for this analysis\n",
    "import itertools\n",
    "import datetime\n",
    "import numpy as np\n",
    "import matplotlib.pyplot as plt\n",
    "from matplotlib.ticker import NullFormatter\n",
    "import pandas as pd\n",
    "import numpy as np\n",
    "import matplotlib.ticker as ticker\n",
    "import seaborn as sns\n",
    "from sklearn import preprocessing\n",
    "%matplotlib inline\n",
    "\n",
    "# Save the .csv data set to a dataframe using pandas\n",
    "!wget -O Data-Collisions.csv https://s3.us.cloud-object-storage.appdomain.cloud/cf-courses-data/CognitiveClass/DP0701EN/version-2/Data-Collisions.csv\n",
    "    \n",
    "    \n",
    "df_temp = pd.read_csv('Data-Collisions.csv')"
   ]
  },
  {
   "cell_type": "code",
   "execution_count": 26,
   "metadata": {},
   "outputs": [
    {
     "name": "stdout",
     "output_type": "stream",
     "text": [
      "        DAYOFWEEK  Blowing Sand/Dirt  Clear  Fog/Smog/Smoke  Other  Overcast  \\\n",
      "7836            1                  0      1               0      0         0   \n",
      "54310           0                  0      1               0      0         0   \n",
      "93813           3                  0      0               0      0         0   \n",
      "163207          4                  0      0               0      0         0   \n",
      "47738           2                  0      0               0      0         0   \n",
      "111941          6                  0      1               0      0         0   \n",
      "14809           3                  0      0               0      0         0   \n",
      "160860          5                  0      0               0      0         1   \n",
      "107872          4                  0      0               0      0         0   \n",
      "11375           3                  0      0               0      0         0   \n",
      "\n",
      "        Partly Cloudy  Raining  Severe Crosswind  Sleet/Hail/Freezing Rain  \\\n",
      "7836                0        0                 0                         0   \n",
      "54310               0        0                 0                         0   \n",
      "93813               0        1                 0                         0   \n",
      "163207              0        0                 0                         0   \n",
      "47738               0        1                 0                         0   \n",
      "111941              0        0                 0                         0   \n",
      "14809               0        1                 0                         0   \n",
      "160860              0        0                 0                         0   \n",
      "107872              0        1                 0                         0   \n",
      "11375               0        1                 0                         0   \n",
      "\n",
      "        Snowing  Unknown  \n",
      "7836          0        0  \n",
      "54310         0        0  \n",
      "93813         0        0  \n",
      "163207        0        1  \n",
      "47738         0        0  \n",
      "111941        0        0  \n",
      "14809         0        0  \n",
      "160860        0        0  \n",
      "107872        0        0  \n",
      "11375         0        0  \n",
      "[1 1 1 1 2 1 1 1 1 1]\n"
     ]
    }
   ],
   "source": [
    "# Extract only significant information from dataframe\n",
    "df = df_temp[[\"SEVERITYCODE\", \"INCDTTM\", \"WEATHER\"]]\n",
    "\n",
    "# Select 50,000 random incidents from data set for analysis \n",
    "chosen_idx = np.random.choice(len(df.index), replace = True, size = 50000) \n",
    "df = df.iloc[chosen_idx] \n",
    "\n",
    "# Replace empty values with \"Unknown\"\n",
    "df = df.fillna(\"Unknown\")\n",
    "\n",
    "# Convert the dates and times of incidents to a datetime object\n",
    "df['INCDTTM'] = pd.to_datetime(df['INCDTTM'])\n",
    "\n",
    "# Extract day of the week information(Monday=0 thru Sunday=6)\n",
    "df['DAYOFWEEK'] = df['INCDTTM'].dt.dayofweek\n",
    "\n",
    "# Reorder dataframe and Extract Features and use One Hot Encoding to convert categorical variables to binary variables and append them to the feature dataframe\n",
    "Features = df[[\"DAYOFWEEK\"]]\n",
    "Features = pd.concat([Features,pd.get_dummies(df['WEATHER'])], axis=1)\n",
    "\n",
    "# Save features and actual results to appropriate dataframes\n",
    "X = Features\n",
    "y = df['SEVERITYCODE'].values\n",
    "\n",
    "print(X.head(10))\n",
    "print(y[0:10])"
   ]
  },
  {
   "cell_type": "code",
   "execution_count": 27,
   "metadata": {},
   "outputs": [
    {
     "name": "stderr",
     "output_type": "stream",
     "text": [
      "/opt/conda/envs/Python36/lib/python3.6/site-packages/sklearn/preprocessing/data.py:645: DataConversionWarning: Data with input dtype uint8, int64 were all converted to float64 by StandardScaler.\n",
      "  return self.partial_fit(X, y)\n",
      "/opt/conda/envs/Python36/lib/python3.6/site-packages/ipykernel/__main__.py:2: DataConversionWarning: Data with input dtype uint8, int64 were all converted to float64 by StandardScaler.\n",
      "  from ipykernel import kernelapp as app\n"
     ]
    }
   ],
   "source": [
    "# Normalize data\n",
    "X= preprocessing.StandardScaler().fit(X).transform(X)"
   ]
  },
  {
   "cell_type": "markdown",
   "metadata": {},
   "source": [
    "## First, let's see if the day of the week influences accident severity"
   ]
  },
  {
   "cell_type": "code",
   "execution_count": 28,
   "metadata": {},
   "outputs": [
    {
     "data": {
      "image/png": "[encoded data removed]",
      "text/plain": [
       "<Figure size 432x288 with 1 Axes>"
      ]
     },
     "metadata": {
      "needs_background": "light"
     },
     "output_type": "display_data"
    }
   ],
   "source": [
    "bins = np.linspace(df.DAYOFWEEK.min(), df.DAYOFWEEK.max(), 10)\n",
    "g = sns.countplot(x=\"DAYOFWEEK\", hue=\"SEVERITYCODE\", data=df)\n",
    "\n",
    "plt.show()"
   ]
  },
  {
   "cell_type": "markdown",
   "metadata": {},
   "source": [
    "From the above Seaborn plot, we can see the relationship between each day of the week and the number and severity of accidents from our 50,000 sample point data set.\n",
    "Some interesting observations are that more accidents seem to occur on Friday and as a result more severe accidents occur on Friday as well. The least amount of accidents occur on Sunday."
   ]
  },
  {
   "cell_type": "markdown",
   "metadata": {},
   "source": [
    "## How does weather affect accident severity?"
   ]
  },
  {
   "cell_type": "code",
   "execution_count": 59,
   "metadata": {},
   "outputs": [
    {
     "data": {
      "image/png": "[encoded data removed]",
      "text/plain": [
       "<Figure size 432x288 with 1 Axes>"
      ]
     },
     "metadata": {
      "needs_background": "light"
     },
     "output_type": "display_data"
    }
   ],
   "source": [
    "g = sns.countplot(x=\"WEATHER\", hue=\"SEVERITYCODE\", data=df)\n",
    "\n",
    "g.set_xticklabels(g.get_xticklabels(), rotation=40, ha=\"right\")\n",
    "plt.tight_layout()\n",
    "\n",
    "plt.show()"
   ]
  },
  {
   "cell_type": "markdown",
   "metadata": {},
   "source": [
    "A majority of accidents occured even on clear days. However, from the plot above it is clear that raining or overcast weather can contribute to more severe accidents."
   ]
  },
  {
   "cell_type": "markdown",
   "metadata": {},
   "source": [
    "# K-Nearest Neighbor"
   ]
  },
  {
   "cell_type": "code",
   "execution_count": 29,
   "metadata": {},
   "outputs": [
    {
     "data": {
      "text/plain": [
       "array([0.5865, 0.6673, 0.6395, 0.6406, 0.6341, 0.6662, 0.6596, 0.6661,\n",
       "       0.6253])"
      ]
     },
     "execution_count": 29,
     "metadata": {},
     "output_type": "execute_result"
    }
   ],
   "source": [
    "# Create train and test groups\n",
    "from sklearn.model_selection import train_test_split\n",
    "X_train, X_test, y_train, y_test = train_test_split( X, y, test_size=0.2, random_state=4)\n",
    "\n",
    "# Import library\n",
    "from sklearn.neighbors import KNeighborsClassifier\n",
    "\n",
    "# Calculate mean of accuracy over multiple K-values\n",
    "Ks = 10\n",
    "mean_acc = np.zeros((Ks-1))\n",
    "std_acc = np.zeros((Ks-1))\n",
    "ConfustionMx = [];\n",
    "for n in range(1,Ks):\n",
    "    \n",
    "    #Train Model and Predict  \n",
    "    neigh = KNeighborsClassifier(n_neighbors = n).fit(X_train,y_train)\n",
    "    yhat=neigh.predict(X_test)\n",
    "    mean_acc[n-1] = metrics.accuracy_score(y_test, yhat)\n",
    "\n",
    "    \n",
    "    # std_acc[n-1]=np.std(yhat==y_test)/np.sqrt(yhat.shape[0])\n",
    "\n",
    "mean_acc"
   ]
  },
  {
   "cell_type": "code",
   "execution_count": 30,
   "metadata": {},
   "outputs": [
    {
     "name": "stdout",
     "output_type": "stream",
     "text": [
      "Train set Accuracy:  0.66075\n",
      "Test set Accuracy:  0.6673\n"
     ]
    }
   ],
   "source": [
    "# Set best k-value after calculating accuracies\n",
    "k = 2\n",
    "#Train Model and Predict  \n",
    "neigh = KNeighborsClassifier(n_neighbors = k).fit(X_train,y_train)\n",
    "neigh\n",
    "\n",
    "# Use model to create prediction of the test set\n",
    "yhat = neigh.predict(X_test)\n",
    "yhat[0:5]\n",
    "\n",
    "# Evaluate accuracy of k-value\n",
    "from sklearn import metrics\n",
    "print(\"Train set Accuracy: \", metrics.accuracy_score(y_train, neigh.predict(X_train)))\n",
    "print(\"Test set Accuracy: \", metrics.accuracy_score(y_test, yhat))"
   ]
  },
  {
   "cell_type": "markdown",
   "metadata": {},
   "source": [
    "### Calculate accuracy scores"
   ]
  },
  {
   "cell_type": "code",
   "execution_count": 31,
   "metadata": {},
   "outputs": [
    {
     "name": "stdout",
     "output_type": "stream",
     "text": [
      "KNN Jaccard Score =  0.6673\n",
      "KNN F1 Score =  0.6115771949263031\n"
     ]
    }
   ],
   "source": [
    "from sklearn.metrics import jaccard_similarity_score\n",
    "from sklearn.metrics import f1_score\n",
    "\n",
    "# Calculate accuracy scores with k = 7\n",
    "KNN_Jaccard_Score = jaccard_similarity_score(y_test, yhat)\n",
    "print(\"KNN Jaccard Score = \", KNN_Jaccard_Score)\n",
    "\n",
    "KNN_F1_Score = f1_score(y_test, yhat, average='weighted') \n",
    "print(\"KNN F1 Score = \", KNN_F1_Score)"
   ]
  },
  {
   "cell_type": "markdown",
   "metadata": {},
   "source": [
    "# Decision Tree"
   ]
  },
  {
   "cell_type": "code",
   "execution_count": 36,
   "metadata": {},
   "outputs": [],
   "source": [
    "from sklearn.tree import DecisionTreeClassifier\n",
    "\n",
    "X_trainset, X_testset, y_trainset, y_testset = train_test_split(X, y, test_size=0.3, random_state=3)\n",
    "   \n",
    "# Create a decision tree object\n",
    "loanTree = DecisionTreeClassifier(criterion=\"entropy\", max_depth = 4)\n",
    "\n",
    "# Fit the tree to the train set generated prior\n",
    "loanTree.fit(X_trainset,y_trainset)\n",
    "\n",
    "# Create prediction from fit model using test set\n",
    "predTree = loanTree.predict(X_testset)"
   ]
  },
  {
   "cell_type": "markdown",
   "metadata": {},
   "source": [
    "### Calculate accuracy scores"
   ]
  },
  {
   "cell_type": "code",
   "execution_count": 48,
   "metadata": {},
   "outputs": [
    {
     "name": "stdout",
     "output_type": "stream",
     "text": [
      "Decision Tree Jaccard Score =  0.7008666666666666\n",
      "Decision Tree F1 Score =  0.8241288754752478\n"
     ]
    }
   ],
   "source": [
    "DT_Jaccard_Score = jaccard_similarity_score(y_testset, predTree)\n",
    "print(\"Decision Tree Jaccard Score = \", DT_Jaccard_Score)\n",
    "\n",
    "DT_F1_Score = f1_score(y_testset, predTree, average='weighted', labels=np.unique(predTree)) \n",
    "print(\"Decision Tree F1 Score = \", DT_F1_Score)"
   ]
  },
  {
   "cell_type": "markdown",
   "metadata": {},
   "source": [
    "# Support Vector Machine"
   ]
  },
  {
   "cell_type": "code",
   "execution_count": 49,
   "metadata": {},
   "outputs": [
    {
     "data": {
      "text/plain": [
       "array([1, 1, 1, 1, 1])"
      ]
     },
     "execution_count": 49,
     "metadata": {},
     "output_type": "execute_result"
    }
   ],
   "source": [
    "svm_X_train, svm_X_test, svm_y_train, svm_y_test = train_test_split( X, y, test_size=0.2, random_state=4)\n",
    "\n",
    "# Import SVM model\n",
    "from sklearn import svm\n",
    "clf = svm.SVC(kernel='rbf', gamma='auto')\n",
    "clf.fit(svm_X_train, svm_y_train) \n",
    "\n",
    "svm_yhat = clf.predict(svm_X_test)\n",
    "svm_yhat [0:5]"
   ]
  },
  {
   "cell_type": "markdown",
   "metadata": {},
   "source": [
    "### Calculate accuracy scores"
   ]
  },
  {
   "cell_type": "code",
   "execution_count": 50,
   "metadata": {},
   "outputs": [
    {
     "name": "stdout",
     "output_type": "stream",
     "text": [
      "SVM Jaccard Score =  0.7042\n",
      "SVM F1 Score =  0.8264288229081094\n"
     ]
    }
   ],
   "source": [
    "# Calculate accuracy scores\n",
    "SVM_Jaccard_Score = jaccard_similarity_score(svm_y_test, svm_yhat)\n",
    "print(\"SVM Jaccard Score = \", SVM_Jaccard_Score)\n",
    "\n",
    "SVM_F1_Score = f1_score(svm_y_test, svm_yhat, average='weighted', labels=np.unique(svm_yhat)) \n",
    "print(\"SVM F1 Score = \", SVM_F1_Score)"
   ]
  },
  {
   "cell_type": "markdown",
   "metadata": {},
   "source": [
    "# Logistic Regression"
   ]
  },
  {
   "cell_type": "code",
   "execution_count": 51,
   "metadata": {},
   "outputs": [],
   "source": [
    "LR_X_train, LR_X_test, LR_y_train, LR_y_test = train_test_split( X, y, test_size=0.2, random_state=4)\n",
    "\n",
    "# Import Logistic Regression model\n",
    "from sklearn.linear_model import LogisticRegression\n",
    "from sklearn.metrics import confusion_matrix\n",
    "LR = LogisticRegression(C=0.01, solver='liblinear').fit(LR_X_train,LR_y_train)\n",
    "\n",
    "LR_yhat = LR.predict(LR_X_test)"
   ]
  },
  {
   "cell_type": "markdown",
   "metadata": {},
   "source": [
    "### Calculate accuracy scores"
   ]
  },
  {
   "cell_type": "code",
   "execution_count": 55,
   "metadata": {},
   "outputs": [
    {
     "name": "stdout",
     "output_type": "stream",
     "text": [
      "LR Jaccard Score =  0.7042\n",
      "LR F1 Score =  0.8264288229081094\n",
      "LR Log Loss =  0.5942734858800851\n"
     ]
    }
   ],
   "source": [
    "# Calculate accuracy scores\n",
    "from sklearn.metrics import log_loss\n",
    "LR_Jaccard_Score = jaccard_similarity_score(LR_y_test, LR_yhat)\n",
    "print(\"LR Jaccard Score = \", LR_Jaccard_Score)\n",
    "\n",
    "LR_F1_Score = f1_score(LR_y_test, LR_yhat, average='weighted', labels=np.unique(LR_yhat)) \n",
    "print(\"LR F1 Score = \", LR_F1_Score)\n",
    "\n",
    "yhat_prob = LR.predict_proba(LR_X_test)\n",
    "LR_Log_Loss = log_loss(y_test, yhat_prob)\n",
    "print(\"LR Log Loss = \", LR_Log_Loss)"
   ]
  },
  {
   "cell_type": "markdown",
   "metadata": {},
   "source": [
    "## Results"
   ]
  },
  {
   "cell_type": "code",
   "execution_count": 56,
   "metadata": {},
   "outputs": [
    {
     "name": "stdout",
     "output_type": "stream",
     "text": [
      "             Algorithm   Jaccard  F1-score   LogLoss\n",
      "0                  KNN  0.667300  0.611577        NA\n",
      "1        Decision Tree  0.700867  0.824129        NA\n",
      "2                  SVM  0.704200  0.826429        NA\n",
      "3  Logistic Regression  0.704200  0.826429  0.594273\n"
     ]
    }
   ],
   "source": [
    "data = {'Algorithm':  ['KNN', 'Decision Tree', 'SVM', 'Logistic Regression'],\n",
    "        'Jaccard': [KNN_Jaccard_Score, DT_Jaccard_Score, SVM_Jaccard_Score, LR_Jaccard_Score],\n",
    "        'F1-score': [KNN_F1_Score, DT_F1_Score, SVM_F1_Score, LR_F1_Score],\n",
    "        'LogLoss': ['NA', 'NA', 'NA', LR_Log_Loss],\n",
    "        }\n",
    "\n",
    "results_df = pd.DataFrame (data, columns = ['Algorithm','Jaccard','F1-score','LogLoss'])\n",
    "\n",
    "print (results_df)"
   ]
  },
  {
   "cell_type": "markdown",
   "metadata": {},
   "source": [
    "After compiling our results in the above table, we can see that our SVM model and our Logistic Regression model both produce accuracy scores of 70.4% and F1 scores of 82.6%. As a result, either of these models should yield predicted accident severity with roughly 70% accuracy given the training and test data sets we used.\n",
    "\n"
   ]
  },
  {
   "cell_type": "markdown",
   "metadata": {},
   "source": [
    "## Discussion"
   ]
  },
  {
   "cell_type": "markdown",
   "metadata": {},
   "source": [
    "The KNN algorithm takes quite a bit of processing time during fitting and a secondary step of finding the optimal K-value requires further analysis by the user. As such, this is not a recommend model in this use case.\n",
    "\n",
    "As previously shown, the day of the week does not seem to have any significant correlation to the severity of accidents either.\n",
    "However, rain and overcast weather can contribute noticeable increase in severe automobile accidents.\n",
    "\n",
    "With these models, we can now predict accident severity using weather attributes."
   ]
  },
  {
   "cell_type": "markdown",
   "metadata": {},
   "source": [
    "## Conclusion"
   ]
  },
  {
   "cell_type": "markdown",
   "metadata": {},
   "source": [
    "This capstone project was very valuable for providing further practice with using machine learning classification models using real-world data sets. This process can be re-used in many applications and can provide valuable information to any user in a variety of ways. \n",
    "\n",
    "Further investigation needs to be done in order to understand how very large data sets should be analyzed and modeled. The processing power and processing time for such a large data set was somewhat prohibitive and I needed to take a smaller sample dataset in order to proceed with model creation and evaluation. \n",
    "\n",
    "In the future, I will also look at other accuracy and evaluation metrics for these models to yield better results."
   ]
  },
  {
   "cell_type": "code",
   "execution_count": null,
   "metadata": {},
   "outputs": [],
   "source": []
  },
  {
   "cell_type": "code",
   "execution_count": null,
   "metadata": {},
   "outputs": [],
   "source": []
  },
  {
   "cell_type": "code",
   "execution_count": null,
   "metadata": {},
   "outputs": [],
   "source": []
  }
 ],
 "metadata": {
  "kernelspec": {
   "display_name": "Python 3.6",
   "language": "python",
   "name": "python3"
  },
  "language_info": {
   "codemirror_mode": {
    "name": "ipython",
    "version": 3
   },
   "file_extension": ".py",
   "mimetype": "text/x-python",
   "name": "python",
   "nbconvert_exporter": "python",
   "pygments_lexer": "ipython3",
   "version": "3.6.9"
  }
 },
 "nbformat": 4,
 "nbformat_minor": 1
}
